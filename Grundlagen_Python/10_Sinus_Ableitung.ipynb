{
 "cells": [
  {
   "cell_type": "markdown",
   "metadata": {},
   "source": [
    "# numerische Ableitung von sin(x)\n",
    "## Bibliotheken-Import\n",
    "`numpy`\n",
    "`matplotlib.pyplot`"
   ]
  },
  {
   "cell_type": "code",
   "execution_count": null,
   "metadata": {},
   "outputs": [],
   "source": [
    "import numpy as np\n",
    "import matplotlib.pyplot as plt"
   ]
  },
  {
   "cell_type": "markdown",
   "metadata": {},
   "source": [
    "## x-Achse diskretisieren"
   ]
  },
  {
   "cell_type": "code",
   "execution_count": null,
   "metadata": {},
   "outputs": [],
   "source": [
    "x_min = 0\n",
    "x_max = 10\n",
    "n_x = 10000000\n",
    "\n",
    "x_i = np.linspace(x_min, x_max, n_x)"
   ]
  },
  {
   "cell_type": "markdown",
   "metadata": {},
   "source": [
    "## dx berechnen"
   ]
  },
  {
   "cell_type": "code",
   "execution_count": null,
   "metadata": {},
   "outputs": [],
   "source": [
    "dx = (x_max - x_min) / (n_x - 1)"
   ]
  },
  {
   "cell_type": "markdown",
   "metadata": {},
   "source": [
    "## f diskretisieren"
   ]
  },
  {
   "cell_type": "code",
   "execution_count": null,
   "metadata": {},
   "outputs": [],
   "source": [
    "f_i = np.sin(x_i)\n",
    "\n",
    "print (f_i)"
   ]
  },
  {
   "cell_type": "markdown",
   "metadata": {},
   "source": [
    "## Plotten mit matplotlib\n",
    "Geplottet werden können zwei Listen zueinander mit:\n",
    "~~~ Python\n",
    "matplotlib.pyplot.plot(x_i, f_i)\n",
    "~~~"
   ]
  },
  {
   "cell_type": "code",
   "execution_count": null,
   "metadata": {},
   "outputs": [],
   "source": [
    "plt.plot(x_i, f_i)"
   ]
  },
  {
   "cell_type": "markdown",
   "metadata": {},
   "source": [
    "## Liste für die Ableitung\n",
    "### Initialisieren\n",
    "Leere Listen können mit `numpy.zeros(n)` initialisert werden."
   ]
  },
  {
   "cell_type": "code",
   "execution_count": null,
   "metadata": {},
   "outputs": [],
   "source": [
    "f_i_dv = np.zeros(n_x)\n",
    "\n",
    "print (f_i_dv)"
   ]
  },
  {
   "cell_type": "markdown",
   "metadata": {},
   "source": [
    "## Ableitung berechnen\n",
    "Ansatz:\n",
    "\n",
    "f'_i = (f_i+1 - f_i) / dx"
   ]
  },
  {
   "cell_type": "code",
   "execution_count": null,
   "metadata": {},
   "outputs": [],
   "source": [
    "for i in range(0, n_x):\n",
    "\tif i < len(f_i_dv) - 1:\n",
    "\t\tf_i_dv[i] = (f_i[i + 1] - f_i[i]) / dx\n",
    "\telse:\n",
    "\t\tf_i_dv[i] = np.nan\n",
    "\n",
    "plt.plot(x_i, f_i)\n",
    "plt.plot(x_i, f_i_dv)\n",
    "\n",
    "plt.show()"
   ]
  },
  {
   "cell_type": "markdown",
   "metadata": {},
   "source": [
    "## Vergleich mit \"echtem\" Cosinus"
   ]
  },
  {
   "cell_type": "code",
   "execution_count": null,
   "metadata": {},
   "outputs": [],
   "source": [
    "f_i_cos = np.cos(x_i)\n",
    "\n",
    "plt.plot(x_i, f_i_dv)\n",
    "plt.plot(x_i, f_i_cos)\n",
    "\n",
    "plt.show()"
   ]
  },
  {
   "cell_type": "markdown",
   "metadata": {},
   "source": [
    "## Rückwärtsableitung"
   ]
  },
  {
   "cell_type": "code",
   "execution_count": null,
   "metadata": {},
   "outputs": [],
   "source": [
    "f_i_dr = np.zeros(n_x)\n",
    "\n",
    "for i in range(0, n_x):\n",
    "\tif i == 0:\n",
    "\t\tf_i_dr[i] = np.nan\n",
    "\telse:\n",
    "\t\tf_i_dr[i] = (f_i[i] - f_i[i - 1]) / dx"
   ]
  },
  {
   "cell_type": "markdown",
   "metadata": {},
   "source": [
    "## Zentralableitung"
   ]
  },
  {
   "cell_type": "code",
   "execution_count": null,
   "metadata": {},
   "outputs": [],
   "source": [
    "f_i_dz = np.zeros(n_x)\n",
    "\n",
    "for i in range(0, n_x):\n",
    "\tif i == 0 or i == n_x - 1:\n",
    "\t\tf_i_dz[i] = np.nan\n",
    "\telse:\n",
    "\t\tf_i_dz[i] = (f_i[i + 1] - f_i[i - 1]) / (2 * dx)"
   ]
  },
  {
   "cell_type": "markdown",
   "metadata": {},
   "source": [
    "## Alle zusammen plotten"
   ]
  },
  {
   "cell_type": "code",
   "execution_count": null,
   "metadata": {},
   "outputs": [],
   "source": [
    "plt.plot(x_i, f_i_dv)\n",
    "plt.plot(x_i, f_i_dr)\n",
    "plt.plot(x_i, f_i_dz)\n",
    "plt.plot(x_i, f_i_cos)\n",
    "\n",
    "plt.show()"
   ]
  },
  {
   "cell_type": "markdown",
   "metadata": {},
   "source": [
    "## Auswertung des Absolutfehlers\n",
    "\n",
    "eps = f'_cos - f'"
   ]
  },
  {
   "cell_type": "code",
   "execution_count": null,
   "metadata": {},
   "outputs": [],
   "source": [
    "eps_f_i_dv = f_i_dv - f_i_cos\n",
    "eps_f_i_dr = f_i_dr - f_i_cos\n",
    "eps_f_i_dz = f_i_dz - f_i_cos\n",
    "\n",
    "print (np.max(np.abs(eps_f_i_dv[:-1])))\n",
    "print (np.max(np.abs(eps_f_i_dr[1:])))\n",
    "print (np.max(np.abs(eps_f_i_dz[1:-1])))\n",
    "\n",
    "# plotten\n",
    "plt.plot(x_i, eps_f_i_dv)\n",
    "plt.plot(x_i, eps_f_i_dr)\n",
    "plt.plot(x_i, eps_f_i_dz)\n",
    "plt.show()"
   ]
  }
 ],
 "metadata": {
  "interpreter": {
   "hash": "84e477c8bcd023fdaa963ccde7125b1292457b16d5a400831fe57f17af448191"
  },
  "kernelspec": {
   "display_name": "Python 3.10.4 64-bit",
   "language": "python",
   "name": "python3"
  },
  "language_info": {
   "codemirror_mode": {
    "name": "ipython",
    "version": 3
   },
   "file_extension": ".py",
   "mimetype": "text/x-python",
   "name": "python",
   "nbconvert_exporter": "python",
   "pygments_lexer": "ipython3",
   "version": "3.10.4"
  },
  "orig_nbformat": 4
 },
 "nbformat": 4,
 "nbformat_minor": 2
}
