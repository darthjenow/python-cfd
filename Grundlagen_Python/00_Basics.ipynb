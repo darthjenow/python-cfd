{
 "cells": [
  {
   "cell_type": "markdown",
   "metadata": {},
   "source": [
    "# absolute Python-Grundlagen\n",
    "## Variablendeklaration"
   ]
  },
  {
   "cell_type": "code",
   "execution_count": 2,
   "metadata": {},
   "outputs": [],
   "source": [
    "a = 5\n",
    "b = 7"
   ]
  },
  {
   "cell_type": "markdown",
   "metadata": {},
   "source": [
    "## Ausgabe"
   ]
  },
  {
   "cell_type": "code",
   "execution_count": 3,
   "metadata": {},
   "outputs": [
    {
     "name": "stdout",
     "output_type": "stream",
     "text": [
      "5\n",
      "7\n"
     ]
    }
   ],
   "source": [
    "print (a)\n",
    "print (b)"
   ]
  },
  {
   "cell_type": "markdown",
   "metadata": {},
   "source": [
    "## Listen\n",
    "Listen können verschiedene Typen gleichzeitig beinhalten"
   ]
  },
  {
   "cell_type": "code",
   "execution_count": 5,
   "metadata": {},
   "outputs": [],
   "source": [
    "liste = [1, 2, 6, \"hallo\", 11]"
   ]
  },
  {
   "cell_type": "markdown",
   "metadata": {},
   "source": [
    "### Listenindizierung\n",
    "Listen werden durch Nummern in eckigen Klammern indiziert - die Nummerierung startet bei 0.\n",
    "\n",
    "Negative Indizes indizieren die Liste von hinten."
   ]
  },
  {
   "cell_type": "code",
   "execution_count": 7,
   "metadata": {},
   "outputs": [
    {
     "name": "stdout",
     "output_type": "stream",
     "text": [
      "1\n",
      "hallo\n"
     ]
    }
   ],
   "source": [
    "print (liste[0])\n",
    "print (liste[-2])"
   ]
  },
  {
   "cell_type": "markdown",
   "metadata": {},
   "source": [
    "## Pakete importieren\n",
    "Mit dem Befehl `as` kann ein Alias für ein Paket erstellt werden."
   ]
  },
  {
   "cell_type": "code",
   "execution_count": null,
   "metadata": {},
   "outputs": [],
   "source": [
    "import numpy as np"
   ]
  },
  {
   "cell_type": "markdown",
   "metadata": {},
   "source": [
    "# Numpy"
   ]
  },
  {
   "cell_type": "markdown",
   "metadata": {},
   "source": [
    "## numpy.linspace()\n",
    "Mit `numpy.linspace(min, max, n)` können Listen mit gleichmäßigen Zahlenverteilungen erstellt werden.\n",
    "\n",
    "|Argument|Funktion|\n",
    "|-|-|\n",
    "|min|Wert des ersten Listenelements|\n",
    "|max|Wert des letzten Listenelements|\n",
    "|n|Anzahl der Listenelemente|"
   ]
  },
  {
   "cell_type": "code",
   "execution_count": null,
   "metadata": {},
   "outputs": [],
   "source": [
    "x_min = 0\n",
    "x_max = 10\n",
    "n_x = 10\n",
    "\n",
    "x_i = np.linspace(x_min, x_max, n_x)\n",
    "\n",
    "print (x_i)"
   ]
  },
  {
   "cell_type": "markdown",
   "metadata": {},
   "source": [
    "## Beispiel\n",
    "Eine Beispielanwendung ist in der Datei \"Grundlagen_Python/10_Sinus_Ableitung.ipynb\" dargestellt."
   ]
  }
 ],
 "metadata": {
  "interpreter": {
   "hash": "84e477c8bcd023fdaa963ccde7125b1292457b16d5a400831fe57f17af448191"
  },
  "kernelspec": {
   "display_name": "Python 3.10.4 64-bit",
   "language": "python",
   "name": "python3"
  },
  "language_info": {
   "codemirror_mode": {
    "name": "ipython",
    "version": 3
   },
   "file_extension": ".py",
   "mimetype": "text/x-python",
   "name": "python",
   "nbconvert_exporter": "python",
   "pygments_lexer": "ipython3",
   "version": "3.10.4"
  },
  "orig_nbformat": 4
 },
 "nbformat": 4,
 "nbformat_minor": 2
}
